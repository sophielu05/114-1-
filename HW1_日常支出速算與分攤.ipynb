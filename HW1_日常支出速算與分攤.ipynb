{
  "nbformat": 4,
  "nbformat_minor": 0,
  "metadata": {
    "colab": {
      "provenance": [],
      "authorship_tag": "ABX9TyMk8ayatY3liMpyon5pHTZz",
      "include_colab_link": true
    },
    "kernelspec": {
      "name": "python3",
      "display_name": "Python 3"
    },
    "language_info": {
      "name": "python"
    }
  },
  "cells": [
    {
      "cell_type": "markdown",
      "metadata": {
        "id": "view-in-github",
        "colab_type": "text"
      },
      "source": [
        "<a href=\"https://colab.research.google.com/github/sophielu05/114-1-/blob/main/HW1_%E6%97%A5%E5%B8%B8%E6%94%AF%E5%87%BA%E9%80%9F%E7%AE%97%E8%88%87%E5%88%86%E6%94%A4.ipynb\" target=\"_parent\"><img src=\"https://colab.research.google.com/assets/colab-badge.svg\" alt=\"Open In Colab\"/></a>"
      ]
    },
    {
      "cell_type": "code",
      "source": [
        "from google.colab import auth\n",
        "auth.authenticate_user()\n",
        "\n",
        "import gspread\n",
        "from google.auth import default\n",
        "creds, _ = default()\n",
        "\n",
        "gc = gspread.authorize(creds)"
      ],
      "metadata": {
        "id": "7tCHdYfl2gGL"
      },
      "execution_count": 28,
      "outputs": []
    },
    {
      "cell_type": "code",
      "source": [
        "import pandas as pd\n",
        "# read data and put it in a dataframe\n",
        "# 在 google 工作表載入 gsheets\n",
        "gsheets = gc.open_by_url('https://docs.google.com/spreadsheets/d/1AdYsH7xZH7gV7seziToLVL7aKkrc1iIgYmYBvilxACI/edit?usp=sharing')\n",
        ""
      ],
      "metadata": {
        "id": "aF_10br51f-Y"
      },
      "execution_count": 29,
      "outputs": []
    },
    {
      "cell_type": "code",
      "source": [
        "gsheets\n"
      ],
      "metadata": {
        "colab": {
          "base_uri": "https://localhost:8080/"
        },
        "id": "vCiiRHb22mKZ",
        "outputId": "0dabe367-7d41-4f57-96e6-a617bbac9e52"
      },
      "execution_count": 38,
      "outputs": [
        {
          "output_type": "execute_result",
          "data": {
            "text/plain": [
              "<Spreadsheet '程式語言_hw1' id:1AdYsH7xZH7gV7seziToLVL7aKkrc1iIgYmYBvilxACI>"
            ]
          },
          "metadata": {},
          "execution_count": 38
        }
      ]
    },
    {
      "cell_type": "code",
      "source": [
        "# 從 gsheets 的 All-whiteboard-device 載入 sheets\n",
        "sheets = gsheets.worksheet('工作表1').get_all_values()\n",
        "# 將 sheets1 資料載入 pd 的 DataFrame 進行分析\n",
        "df = pd.DataFrame(sheets[1:], columns=sheets[0])\n",
        "# 取得最前面的5筆資料\n",
        "df.head()"
      ],
      "metadata": {
        "colab": {
          "base_uri": "https://localhost:8080/",
          "height": 53
        },
        "id": "Ab95Vgr_1w-k",
        "outputId": "6015b71d-a60f-4b9e-fdc7-2323a2b67833"
      },
      "execution_count": 35,
      "outputs": [
        {
          "output_type": "execute_result",
          "data": {
            "text/plain": [
              "Empty DataFrame\n",
              "Columns: [日期, 時間, 品項, 金額]\n",
              "Index: []"
            ],
            "text/html": [
              "\n",
              "  <div id=\"df-bd6bc5af-6c8b-411f-aceb-6f9c46cf5502\" class=\"colab-df-container\">\n",
              "    <div>\n",
              "<style scoped>\n",
              "    .dataframe tbody tr th:only-of-type {\n",
              "        vertical-align: middle;\n",
              "    }\n",
              "\n",
              "    .dataframe tbody tr th {\n",
              "        vertical-align: top;\n",
              "    }\n",
              "\n",
              "    .dataframe thead th {\n",
              "        text-align: right;\n",
              "    }\n",
              "</style>\n",
              "<table border=\"1\" class=\"dataframe\">\n",
              "  <thead>\n",
              "    <tr style=\"text-align: right;\">\n",
              "      <th></th>\n",
              "      <th>日期</th>\n",
              "      <th>時間</th>\n",
              "      <th>品項</th>\n",
              "      <th>金額</th>\n",
              "    </tr>\n",
              "  </thead>\n",
              "  <tbody>\n",
              "  </tbody>\n",
              "</table>\n",
              "</div>\n",
              "    <div class=\"colab-df-buttons\">\n",
              "\n",
              "  <div class=\"colab-df-container\">\n",
              "    <button class=\"colab-df-convert\" onclick=\"convertToInteractive('df-bd6bc5af-6c8b-411f-aceb-6f9c46cf5502')\"\n",
              "            title=\"Convert this dataframe to an interactive table.\"\n",
              "            style=\"display:none;\">\n",
              "\n",
              "  <svg xmlns=\"http://www.w3.org/2000/svg\" height=\"24px\" viewBox=\"0 -960 960 960\">\n",
              "    <path d=\"M120-120v-720h720v720H120Zm60-500h600v-160H180v160Zm220 220h160v-160H400v160Zm0 220h160v-160H400v160ZM180-400h160v-160H180v160Zm440 0h160v-160H620v160ZM180-180h160v-160H180v160Zm440 0h160v-160H620v160Z\"/>\n",
              "  </svg>\n",
              "    </button>\n",
              "\n",
              "  <style>\n",
              "    .colab-df-container {\n",
              "      display:flex;\n",
              "      gap: 12px;\n",
              "    }\n",
              "\n",
              "    .colab-df-convert {\n",
              "      background-color: #E8F0FE;\n",
              "      border: none;\n",
              "      border-radius: 50%;\n",
              "      cursor: pointer;\n",
              "      display: none;\n",
              "      fill: #1967D2;\n",
              "      height: 32px;\n",
              "      padding: 0 0 0 0;\n",
              "      width: 32px;\n",
              "    }\n",
              "\n",
              "    .colab-df-convert:hover {\n",
              "      background-color: #E2EBFA;\n",
              "      box-shadow: 0px 1px 2px rgba(60, 64, 67, 0.3), 0px 1px 3px 1px rgba(60, 64, 67, 0.15);\n",
              "      fill: #174EA6;\n",
              "    }\n",
              "\n",
              "    .colab-df-buttons div {\n",
              "      margin-bottom: 4px;\n",
              "    }\n",
              "\n",
              "    [theme=dark] .colab-df-convert {\n",
              "      background-color: #3B4455;\n",
              "      fill: #D2E3FC;\n",
              "    }\n",
              "\n",
              "    [theme=dark] .colab-df-convert:hover {\n",
              "      background-color: #434B5C;\n",
              "      box-shadow: 0px 1px 3px 1px rgba(0, 0, 0, 0.15);\n",
              "      filter: drop-shadow(0px 1px 2px rgba(0, 0, 0, 0.3));\n",
              "      fill: #FFFFFF;\n",
              "    }\n",
              "  </style>\n",
              "\n",
              "    <script>\n",
              "      const buttonEl =\n",
              "        document.querySelector('#df-bd6bc5af-6c8b-411f-aceb-6f9c46cf5502 button.colab-df-convert');\n",
              "      buttonEl.style.display =\n",
              "        google.colab.kernel.accessAllowed ? 'block' : 'none';\n",
              "\n",
              "      async function convertToInteractive(key) {\n",
              "        const element = document.querySelector('#df-bd6bc5af-6c8b-411f-aceb-6f9c46cf5502');\n",
              "        const dataTable =\n",
              "          await google.colab.kernel.invokeFunction('convertToInteractive',\n",
              "                                                    [key], {});\n",
              "        if (!dataTable) return;\n",
              "\n",
              "        const docLinkHtml = 'Like what you see? Visit the ' +\n",
              "          '<a target=\"_blank\" href=https://colab.research.google.com/notebooks/data_table.ipynb>data table notebook</a>'\n",
              "          + ' to learn more about interactive tables.';\n",
              "        element.innerHTML = '';\n",
              "        dataTable['output_type'] = 'display_data';\n",
              "        await google.colab.output.renderOutput(dataTable, element);\n",
              "        const docLink = document.createElement('div');\n",
              "        docLink.innerHTML = docLinkHtml;\n",
              "        element.appendChild(docLink);\n",
              "      }\n",
              "    </script>\n",
              "  </div>\n",
              "\n",
              "\n",
              "    </div>\n",
              "  </div>\n"
            ],
            "application/vnd.google.colaboratory.intrinsic+json": {
              "type": "dataframe",
              "variable_name": "df",
              "repr_error": "Out of range float values are not JSON compliant: nan"
            }
          },
          "metadata": {},
          "execution_count": 35
        }
      ]
    },
    {
      "cell_type": "code",
      "source": [
        "# Part 1: Connect to Google Sheets\n",
        "# These lines are for Google Colab authentication.\n",
        "from google.colab import auth\n",
        "import gspread\n",
        "from google.auth import default\n",
        "import pandas as pd\n",
        "import datetime\n",
        "\n",
        "# Authenticate with your Google account.\n",
        "# You will be prompted to grant access.\n",
        "auth.authenticate_user()\n",
        "creds, _ = default()\n",
        "gc = gspread.authorize(creds)\n",
        "\n",
        "# Open your Google Sheet by URL.\n",
        "# ⚠️ 重要：請將此 URL 替換為你的 Google 試算表連結。\n",
        "# ⚠️ 請確保你的試算表權限已設定為「知道連結的任何人」為「編輯者」。\n",
        "try:\n",
        "    spreadsheet_url = 'https://docs.google.com/spreadsheets/d/1AdYsH7xZH7gV7seziToLVL7aKkrc1iIgYmYBvilxACI/edit?usp=sharing'\n",
        "    gsheets = gc.open_by_url(spreadsheet_url)\n",
        "    print(\"已成功連接到 Google 試算表。\")\n",
        "except Exception as e:\n",
        "    print(f\"錯誤：無法連接到 Google 試算表。請檢查 URL 或權限設定。{e}\")\n",
        "    # If connection fails, exit the program.\n",
        "    exit()\n",
        "\n",
        "# Part 2: The main function to record transaction\n",
        "def record_transaction_to_gsheet():\n",
        "    \"\"\"\n",
        "    要求使用者輸入交易資訊並寫入 Google 試算表。\n",
        "    \"\"\"\n",
        "    print(\"請輸入交易內容：\")\n",
        "\n",
        "    # 取得當前日期和時間\n",
        "    date = input(f\"日期 (格式：YYYYMMDD，若留空則使用今天日期 {datetime.date.today()}): \")\n",
        "    if not date:\n",
        "        date = str(datetime.date.today())\n",
        "\n",
        "    time = input(f\"時間 (格式：HH:MM，{datetime.datetime.now().strftime('%H:%M')}): \")\n",
        "    if not time:\n",
        "        time = datetime.datetime.now().strftime('%H:%M')\n",
        "\n",
        "    # 要求使用者輸入品項和金額\n",
        "    item = input(\"品項: \")\n",
        "    amount = input(\"金額: \")\n",
        "\n",
        "    # 檢查輸入是否為空\n",
        "    if not item or not amount:\n",
        "        print(\"品項和金額不能為空，請重新輸入。\")\n",
        "        return\n",
        "\n",
        "    # 將新的交易資料寫入 Google 試算表\n",
        "    # 選擇工作表。這裡選擇第一個工作表（索引為 0），你可以改為名稱，如 '工作表1'。\n",
        "    try:\n",
        "        worksheet = gsheets.get_worksheet(0)\n",
        "    except Exception as e:\n",
        "        print(f\"錯誤：無法找到工作表。{e}\")\n",
        "        return\n",
        "\n",
        "    # 準備要寫入的資料\n",
        "    new_row = [date, time, item, amount]\n",
        "\n",
        "    # 將資料追加到工作表的新行\n",
        "    try:\n",
        "        worksheet.append_row(new_row)\n",
        "        print(\"交易記錄已成功儲存到 Google 試算表！\")\n",
        "    except Exception as e:\n",
        "        print(f\"寫入資料時發生錯誤：{e}\")\n",
        "\n",
        "\n",
        "# Part 3: The main program loop\n",
        "if __name__ == \"__main__\":\n",
        "    while True:\n",
        "        record_transaction_to_gsheet()\n",
        "        continue_input = input(\"是否要繼續新增交易？(y/n): \").lower()\n",
        "        if continue_input != 'y':\n",
        "            break\n",
        "\n",
        "    print(\"程式結束。\")"
      ],
      "metadata": {
        "colab": {
          "base_uri": "https://localhost:8080/"
        },
        "id": "OOgs8yfs6Gaf",
        "outputId": "8b6d5d86-f4a6-4f50-822b-063e075b1869"
      },
      "execution_count": 39,
      "outputs": [
        {
          "output_type": "stream",
          "name": "stdout",
          "text": [
            "已成功連接到 Google 試算表。\n",
            "請輸入交易內容：\n",
            "日期 (格式：YYYYMMDD，若留空則使用今天日期 2025-09-11): \n",
            "時間 (格式：HH:MM，03:53): 11:53\n",
            "品項: 牛奶\n",
            "金額: 50\n",
            "交易記錄已成功儲存到 Google 試算表！\n",
            "是否要繼續新增交易？(y/n): n\n",
            "程式結束。\n"
          ]
        }
      ]
    }
  ]
}