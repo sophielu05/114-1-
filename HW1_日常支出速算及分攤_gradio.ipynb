{
  "nbformat": 4,
  "nbformat_minor": 0,
  "metadata": {
    "colab": {
      "provenance": [],
      "authorship_tag": "ABX9TyOaLswc6Tvjm/ZMDV/RjYjF",
      "include_colab_link": true
    },
    "kernelspec": {
      "name": "python3",
      "display_name": "Python 3"
    },
    "language_info": {
      "name": "python"
    }
  },
  "cells": [
    {
      "cell_type": "markdown",
      "metadata": {
        "id": "view-in-github",
        "colab_type": "text"
      },
      "source": [
        "<a href=\"https://colab.research.google.com/github/sophielu05/114-1-/blob/main/HW1_%E6%97%A5%E5%B8%B8%E6%94%AF%E5%87%BA%E9%80%9F%E7%AE%97%E5%8F%8A%E5%88%86%E6%94%A4_gradio.ipynb\" target=\"_parent\"><img src=\"https://colab.research.google.com/assets/colab-badge.svg\" alt=\"Open In Colab\"/></a>"
      ]
    },
    {
      "cell_type": "code",
      "source": [
        "# Gradio + Google Sheets 記帳系統（含台灣時間 & 查看紀錄）\n",
        "from google.colab import auth\n",
        "import gspread\n",
        "from google.auth import default\n",
        "import pandas as pd\n",
        "import datetime\n",
        "import gradio as gr\n",
        "\n",
        "# --- 時區設定 ---\n",
        "try:\n",
        "    from zoneinfo import ZoneInfo\n",
        "    TAIPEI = ZoneInfo(\"Asia/Taipei\")\n",
        "except Exception:\n",
        "    try:\n",
        "        import pytz\n",
        "        TAIPEI = pytz.timezone(\"Asia/Taipei\")\n",
        "    except Exception:\n",
        "        TAIPEI = datetime.timezone(datetime.timedelta(hours=8))\n",
        "\n",
        "# --- Google Auth & open sheet ---\n",
        "auth.authenticate_user()\n",
        "creds, _ = default()\n",
        "gc = gspread.authorize(creds)\n",
        "\n",
        "spreadsheet_url = 'https://docs.google.com/spreadsheets/d/1AdYsH7xZH7gV7seziToLVL7aKkrc1iIgYmYBvilxACI/edit?usp=sharing'\n",
        "gsheets = gc.open_by_url(spreadsheet_url)\n",
        "worksheet = gsheets.get_worksheet(0)  # 第一個工作表\n",
        "\n",
        "# 若空表就建立表頭\n",
        "if not worksheet.get_all_values():\n",
        "    worksheet.append_row([\"日期\", \"時間\", \"品項\", \"金額\"])\n",
        "\n",
        "# --- 寫入交易 ---\n",
        "def record_transaction(item, amount, date=\"\", time=\"\"):\n",
        "    now = datetime.datetime.now(TAIPEI)\n",
        "\n",
        "    # 日期\n",
        "    if not date.strip():\n",
        "        date_str = now.strftime(\"%Y-%m-%d\")\n",
        "    else:\n",
        "        try:\n",
        "            date_str = datetime.datetime.strptime(date, \"%Y%m%d\").strftime(\"%Y-%m-%d\")\n",
        "        except:\n",
        "            try:\n",
        "                date_str = datetime.datetime.strptime(date, \"%Y-%m-%d\").strftime(\"%Y-%m-%d\")\n",
        "            except:\n",
        "                date_str = date\n",
        "\n",
        "    # 時間\n",
        "    if not time.strip():\n",
        "        time_str = now.strftime(\"%H:%M\")\n",
        "    else:\n",
        "        time_str = time\n",
        "\n",
        "    # 金額驗證\n",
        "    try:\n",
        "        amt = float(str(amount).replace(\",\", \"\").strip())\n",
        "    except:\n",
        "        return \"❌ 金額必須是數字（可包含逗號），請重新輸入。\"\n",
        "\n",
        "    new_row = [date_str, time_str, item, amt]\n",
        "    worksheet.append_row(new_row)\n",
        "    return f\"✅ 已新增交易：{date_str} {time_str} — {item}，金額：{amt}\"\n",
        "\n",
        "# --- 讀取所有紀錄 ---\n",
        "def show_records():\n",
        "    data = worksheet.get_all_values()\n",
        "    if not data or len(data) <= 1:\n",
        "        return pd.DataFrame(columns=[\"日期\", \"時間\", \"品項\", \"金額\"])\n",
        "    df = pd.DataFrame(data[1:], columns=data[0])\n",
        "    return df\n",
        "\n",
        "# --- Gradio UI ---\n",
        "with gr.Blocks() as demo:\n",
        "    gr.Markdown(\"# 💰 記帳系統（Google Sheets 連結版）\")\n",
        "\n",
        "    with gr.Row():\n",
        "        date_input = gr.Textbox(label=\"日期 (YYYY-MM-DD 或 YYYYMMDD，留空=今天)\")\n",
        "        time_input = gr.Textbox(label=\"時間 (HH:MM，留空=現在台灣時間)\")\n",
        "    item_input = gr.Textbox(label=\"品項\")\n",
        "    amount_input = gr.Textbox(label=\"金額 (可含逗號)\")\n",
        "\n",
        "    output = gr.Textbox(label=\"結果\")\n",
        "\n",
        "    with gr.Row():\n",
        "        submit_btn = gr.Button(\"新增交易\")\n",
        "        show_btn = gr.Button(\"📋 查看所有紀錄\")\n",
        "\n",
        "    records_table = gr.DataFrame(label=\"目前紀錄\", interactive=False)\n",
        "\n",
        "    submit_btn.click(fn=record_transaction,\n",
        "                     inputs=[item_input, amount_input, date_input, time_input],\n",
        "                     outputs=output)\n",
        "\n",
        "    show_btn.click(fn=show_records, inputs=None, outputs=records_table)\n",
        "\n",
        "demo.launch()\n"
      ],
      "metadata": {
        "colab": {
          "base_uri": "https://localhost:8080/",
          "height": 646
        },
        "id": "KKTnm6UfhWhZ",
        "outputId": "02ba7471-2160-4a4b-ccac-b9d85274d072"
      },
      "execution_count": 3,
      "outputs": [
        {
          "output_type": "stream",
          "name": "stdout",
          "text": [
            "It looks like you are running Gradio on a hosted Jupyter notebook, which requires `share=True`. Automatically setting `share=True` (you can turn this off by setting `share=False` in `launch()` explicitly).\n",
            "\n",
            "Colab notebook detected. To show errors in colab notebook, set debug=True in launch()\n",
            "* Running on public URL: https://142e2e7de7271e14c1.gradio.live\n",
            "\n",
            "This share link expires in 1 week. For free permanent hosting and GPU upgrades, run `gradio deploy` from the terminal in the working directory to deploy to Hugging Face Spaces (https://huggingface.co/spaces)\n"
          ]
        },
        {
          "output_type": "display_data",
          "data": {
            "text/plain": [
              "<IPython.core.display.HTML object>"
            ],
            "text/html": [
              "<div><iframe src=\"https://142e2e7de7271e14c1.gradio.live\" width=\"100%\" height=\"500\" allow=\"autoplay; camera; microphone; clipboard-read; clipboard-write;\" frameborder=\"0\" allowfullscreen></iframe></div>"
            ]
          },
          "metadata": {}
        },
        {
          "output_type": "execute_result",
          "data": {
            "text/plain": []
          },
          "metadata": {},
          "execution_count": 3
        }
      ]
    }
  ]
}