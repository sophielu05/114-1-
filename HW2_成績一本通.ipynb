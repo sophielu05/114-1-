{
  "nbformat": 4,
  "nbformat_minor": 0,
  "metadata": {
    "colab": {
      "provenance": [],
      "authorship_tag": "ABX9TyND5ExCZ/wj4qzLX7hLC0K/",
      "include_colab_link": true
    },
    "kernelspec": {
      "name": "python3",
      "display_name": "Python 3"
    },
    "language_info": {
      "name": "python"
    }
  },
  "cells": [
    {
      "cell_type": "markdown",
      "metadata": {
        "id": "view-in-github",
        "colab_type": "text"
      },
      "source": [
        "<a href=\"https://colab.research.google.com/github/sophielu05/114-1-/blob/main/HW2_%E6%88%90%E7%B8%BE%E4%B8%80%E6%9C%AC%E9%80%9A.ipynb\" target=\"_parent\"><img src=\"https://colab.research.google.com/assets/colab-badge.svg\" alt=\"Open In Colab\"/></a>"
      ]
    },
    {
      "cell_type": "code",
      "source": [
        "!pip install -q google-generativeai"
      ],
      "metadata": {
        "id": "rZO52eAAyvQ5"
      },
      "execution_count": 33,
      "outputs": []
    },
    {
      "cell_type": "code",
      "source": [
        "import gradio as gr\n",
        "import pandas as pd\n",
        "from google.colab import auth\n",
        "from google.auth import default\n",
        "\n",
        "# -*- coding: utf-8 -*-\n",
        "import gspread\n",
        "from datetime import datetime\n",
        "import google.generativeai as genai\n",
        "import os\n",
        "import json"
      ],
      "metadata": {
        "id": "ScWDRmaPyxm-"
      },
      "execution_count": 34,
      "outputs": []
    },
    {
      "cell_type": "code",
      "source": [
        "from google.colab import userdata\n",
        "\n",
        "# 從 Colab Secrets 中獲取 API 金鑰\n",
        "api_key = userdata.get('lty')\n",
        "\n",
        "# 使用獲取的金鑰配置 genai\n",
        "genai.configure(api_key=api_key)\n",
        "\n",
        "model = genai.GenerativeModel('gemini-2.5-pro')"
      ],
      "metadata": {
        "id": "d-ta948-5-XE"
      },
      "execution_count": 35,
      "outputs": []
    },
    {
      "cell_type": "code",
      "source": [
        "SHEET_URL = \"https://docs.google.com/spreadsheets/d/1dOIXC4DnmBN-qyEXa7g-mpzmZZ-CAWjaFXdNpiYfclA/edit?usp=sharing\"\n",
        "WORKSHEET_NAME = \"工作表1\"\n",
        "\n",
        "REQUIRED_COLUMNS = [\"日期\", \"科目\", \"考試成績\"]\n",
        "\n",
        "_auth_done = False\n",
        "_gc = None\n",
        "_ws = None"
      ],
      "metadata": {
        "id": "hNisQtvO3dHU"
      },
      "execution_count": 36,
      "outputs": []
    },
    {
      "cell_type": "code",
      "source": [
        "import gspread\n",
        "from google.colab import auth\n",
        "import google.auth\n",
        "from datetime import datetime\n",
        "import gradio as gr\n",
        "import pandas as pd\n",
        "import json\n",
        "\n",
        "# --- 您的 Google Sheet 設定 (請修改成您自己的) ---\n",
        "# Google Sheet 的完整 URL (請替換為您的 Sheet URL)\n",
        "SHEET_URL = \"https://docs.google.com/spreadsheets/d/1vDINC4DxmBN-qYEXa7g-mprzZZ-CAWjAFXdNWpiYfCla/edit?usp=sharing\"\n",
        "# 工作表名稱\n",
        "WORKSHEET_NAME = \"工作表1\"\n",
        "# 預期的欄位名稱\n",
        "REQUIRED_COLUMNS = [\"日期\", \"科目\", \"考試成績\"]\n",
        "# ---------------------------------------------------\n",
        "\n",
        "# 為了讓 Gradio 介面運行，我們將身份驗證移到外部\n",
        "# 並且在首次執行函數時，才進行 gspread 的授權連線。\n",
        "gc = None\n",
        "\n",
        "# --- 1. 身份驗證與授權 ---\n",
        "def authorize_gspread():\n",
        "    \"\"\"執行 Google Colab 身份驗證並取得 gspread 連線物件。\"\"\"\n",
        "    global gc\n",
        "    if gc is None:\n",
        "        try:\n",
        "            # Colab 身份驗證\n",
        "            print(\"正在進行 Google 身份驗證...\")\n",
        "            # 執行後會跳出視窗要求您登入 Google 帳號，並授權 Colab 存取 Google Drive/Sheets\n",
        "            auth.authenticate_user()\n",
        "\n",
        "            # 使用 google.auth.default()[0] 取得正確的憑證物件 (解決 tuple error)\n",
        "            creds, _ = google.auth.default()\n",
        "            gc = gspread.authorize(creds)\n",
        "            print(\"✅ 身份驗證完成。\")\n",
        "            return gc\n",
        "        except Exception as e:\n",
        "            print(f\"❌ 身份驗證或授權失敗: {e}\")\n",
        "            return None\n",
        "    return gc\n",
        "\n",
        "\n",
        "# --- 2. 核心功能：記錄成績 (供 Gradio 調用) ---\n",
        "def record_score_to_sheet(subject, score_input):\n",
        "    \"\"\"\n",
        "    將一筆新的成績紀錄附加到 Google Sheet 的下一行。\n",
        "    :param subject: 科目名稱 (str)\n",
        "    :param score_input: 成績 (str，因為 Gradio 輸入框是字串)\n",
        "    \"\"\"\n",
        "    gc = authorize_gspread()\n",
        "    if gc is None:\n",
        "        return \"❌ 錯誤：無法連接到 Google Sheet，請檢查 Colab 授權步驟是否完成。\"\n",
        "\n",
        "    try:\n",
        "        # 嘗試將分數輸入轉換為數字，以便 Google Sheet 格式化\n",
        "        try:\n",
        "            score = float(score_input)\n",
        "        except ValueError:\n",
        "            score = score_input # 如果不是數字，則以原始字串記錄\n",
        "\n",
        "        # 根據 URL 開啟工作簿 (Spreadsheet)\n",
        "        spreadsheet = gc.open_by_url(SHEET_URL)\n",
        "\n",
        "        # 選擇工作表\n",
        "        worksheet = spreadsheet.worksheet(WORKSHEET_NAME)\n",
        "\n",
        "        # 取得當前日期 (YYYY-MM-DD)\n",
        "        date_str = datetime.now().strftime('%Y-%m-%d')\n",
        "\n",
        "        # 準備要寫入的資料：[日期, 科目, 考試成績]\n",
        "        new_row_data = [date_str, subject, score]\n",
        "\n",
        "        # 確保工作表有標題列\n",
        "        current_header = worksheet.row_values(1)\n",
        "        if current_header != REQUIRED_COLUMNS:\n",
        "             worksheet.update('A1:C1', [REQUIRED_COLUMNS])\n",
        "\n",
        "        # 附加新的資料行\n",
        "        worksheet.append_row(new_row_data, value_input_option='USER_ENTERED')\n",
        "\n",
        "        # 返回成功訊息給 Gradio 介面\n",
        "        return f\"✅ 成功記錄成績！\\n日期: {date_str}, 科目: {subject}, 成績: {score}\\n資料已寫入 '{WORKSHEET_NAME}'。\"\n",
        "\n",
        "    except gspread.exceptions.SpreadsheetNotFound:\n",
        "        return f\"❌ 錯誤：找不到 Google Sheet，請檢查 URL 是否正確 ({SHEET_URL})。\"\n",
        "    except gspread.exceptions.WorksheetNotFound:\n",
        "        return f\"❌ 錯誤：找不到工作表 '{WORKSHEET_NAME}'，請檢查名稱是否正確。\"\n",
        "    except Exception as e:\n",
        "        return f\"❌ 記錄時發生未知錯誤: {e}\"\n",
        "\n",
        "\n",
        "# --- 3. Gradio 介面設置 ---\n",
        "\n",
        "# 介面標題\n",
        "title = \"Google Sheet 成績記錄器\"\n",
        "\n",
        "# 介面描述\n",
        "description = f\"\"\"\n",
        "使用 Google Colab 和 Gradio 快速記錄成績到 Google Sheet。\n",
        "**目標 Sheet:** {SHEET_URL}\n",
        "**目標工作表:** {WORKSHEET_NAME}\n",
        "\"\"\"\n",
        "\n",
        "# 創建 Gradio 介面\n",
        "iface = gr.Interface(\n",
        "    # 綁定核心函數\n",
        "    fn=record_score_to_sheet,\n",
        "\n",
        "    # 輸入組件：科目 (文字框), 成績 (數字框)\n",
        "    inputs=[\n",
        "        gr.Textbox(label=\"科目名稱\", placeholder=\"例如：數學、英文\"),\n",
        "        gr.Number(label=\"考試成績\", minimum=0, maximum=100)\n",
        "    ],\n",
        "\n",
        "    # 輸出組件：顯示結果訊息\n",
        "    outputs=gr.Textbox(label=\"記錄結果\", lines=5),\n",
        "\n",
        "    # 介面標題與描述\n",
        "    title=title,\n",
        "    description=description,\n",
        "\n",
        "    # 讓按鈕的文字更清楚\n",
        "    submit_btn=\"記錄成績到 Google Sheet\",\n",
        "\n",
        "    # 禁用清除按鈕，避免誤觸\n",
        "    clear_btn=None\n",
        ")\n",
        "\n",
        "# 啟動 Gradio 介面\n",
        "print(\"\\n--- 正在啟動 Gradio 介面 ---\")\n",
        "print(\"請點擊生成的 Public URL 連結在瀏覽器中使用。\")\n",
        "\n",
        "# Launch 參數\n",
        "# share=True 會生成一個外部連結，方便在瀏覽器中開啟\n",
        "iface.launch(share=True)"
      ],
      "metadata": {
        "colab": {
          "base_uri": "https://localhost:8080/",
          "height": 663
        },
        "id": "xv6-GAYKBLua",
        "outputId": "a51e5264-ff58-4806-fc6c-d6137fc660aa"
      },
      "execution_count": 37,
      "outputs": [
        {
          "output_type": "stream",
          "name": "stdout",
          "text": [
            "\n",
            "--- 正在啟動 Gradio 介面 ---\n",
            "請點擊生成的 Public URL 連結在瀏覽器中使用。\n",
            "Colab notebook detected. To show errors in colab notebook, set debug=True in launch()\n",
            "* Running on public URL: https://d70e1e0318dae8249c.gradio.live\n",
            "\n",
            "This share link expires in 1 week. For free permanent hosting and GPU upgrades, run `gradio deploy` from the terminal in the working directory to deploy to Hugging Face Spaces (https://huggingface.co/spaces)\n"
          ]
        },
        {
          "output_type": "display_data",
          "data": {
            "text/plain": [
              "<IPython.core.display.HTML object>"
            ],
            "text/html": [
              "<div><iframe src=\"https://d70e1e0318dae8249c.gradio.live\" width=\"100%\" height=\"500\" allow=\"autoplay; camera; microphone; clipboard-read; clipboard-write;\" frameborder=\"0\" allowfullscreen></iframe></div>"
            ]
          },
          "metadata": {}
        },
        {
          "output_type": "execute_result",
          "data": {
            "text/plain": []
          },
          "metadata": {},
          "execution_count": 37
        }
      ]
    }
  ]
}